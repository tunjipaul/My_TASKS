{
 "cells": [
  {
   "cell_type": "markdown",
   "id": "278d6fa2",
   "metadata": {},
   "source": [
    "**String Operations Practice Questions**"
   ]
  },
  {
   "cell_type": "markdown",
   "id": "ad1cacad",
   "metadata": {},
   "source": [
    "**Task1**\n",
    "\n",
    "1. Write a program to take a string input from the user and display it in uppercase.\n",
    "\n",
    "2. Given the string \"python\", print its first and last characters.\n",
    "\n",
    "3. Ask the user for their name and print \"Hello, <name>!\" where <name> is the user’s input.\n",
    "\n",
    "4. Write a program to count the number of characters in a string without using len().\n",
    "\n",
    "5. Given \"Hello World\", replace \"World\" with \"Python\"."
   ]
  },
  {
   "cell_type": "markdown",
   "id": "7b8f61a1",
   "metadata": {},
   "source": [
    "**Task2**\n",
    "\n",
    "6. Check if a given string contains the substring \"python\" (case-insensitive).\n",
    "\n",
    "7. Write a program to reverse a string without using slicing ([::-1]).\n",
    "\n",
    "8. Given a string with extra spaces, remove the leading and trailing spaces.\n",
    "\n",
    "9. Ask the user to enter a sentence and print the number of vowels in it.\n",
    "\n",
    "10. Convert a string \"1234\" to an integer and multiply it by 2."
   ]
  },
  {
   "cell_type": "markdown",
   "id": "0815eaa7",
   "metadata": {},
   "source": [
    "**Task3: Pattern Matching & Splitting**\n",
    "11. Given \"apple,banana,orange\", split the string into a list of fruits.\n",
    "\n",
    "12. Ask the user for a sentence and print each word on a new line.\n",
    "\n",
    "13. Replace all spaces in a string with underscores (_).\n",
    "\n",
    "14. Count how many times the letter \"a\" appears in \"Banana\".\n",
    "\n",
    "15. Check if a given string starts with \"https://\"."
   ]
  },
  {
   "cell_type": "markdown",
   "id": "c29e08fb",
   "metadata": {},
   "source": []
  },
  {
   "cell_type": "markdown",
   "id": "665335c8",
   "metadata": {},
   "source": []
  },
  {
   "cell_type": "markdown",
   "id": "79cd7929",
   "metadata": {},
   "source": []
  },
  {
   "cell_type": "markdown",
   "id": "dc01d452",
   "metadata": {},
   "source": []
  }
 ],
 "metadata": {
  "language_info": {
   "name": "python"
  }
 },
 "nbformat": 4,
 "nbformat_minor": 5
}
