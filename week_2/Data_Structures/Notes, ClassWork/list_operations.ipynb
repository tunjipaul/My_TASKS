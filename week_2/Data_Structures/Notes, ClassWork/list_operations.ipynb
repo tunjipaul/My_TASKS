{
 "cells": [
  {
   "cell_type": "markdown",
   "id": "8047a409",
   "metadata": {},
   "source": [
    "###**List Operations in Python**"
   ]
  },
  {
   "cell_type": "markdown",
   "id": "f25da11e",
   "metadata": {},
   "source": [
    "- Python lists support a variety of operations for creating, modifying, and working with data.We will go through them step by step now."
   ]
  },
  {
   "cell_type": "markdown",
   "id": "2600c657",
   "metadata": {},
   "source": [
    "**1. Concatenation (+)**\n",
    "- Joins two lists into a new list.\n",
    "- Joins two lists into a new list."
   ]
  },
  {
   "cell_type": "code",
   "execution_count": null,
   "id": "ed119b44",
   "metadata": {
    "vscode": {
     "languageId": "plaintext"
    }
   },
   "outputs": [],
   "source": [
    "list1 = [1, 2, 3]\n",
    "list2 = [4, 5]\n",
    "result = list1 + list2\n",
    "print(result)  # [1, 2, 3, 4, 5]"
   ]
  },
  {
   "cell_type": "markdown",
   "id": "379f0f5d",
   "metadata": {},
   "source": [
    "**2. Repetition (*)**\n",
    "- Repeats elements in a list a given number of times."
   ]
  },
  {
   "cell_type": "code",
   "execution_count": null,
   "id": "286c2f8a",
   "metadata": {
    "vscode": {
     "languageId": "plaintext"
    }
   },
   "outputs": [],
   "source": [
    "nums = [1, 2]\n",
    "repeated = nums * 3\n",
    "print(repeated)  # [1, 2, 1, 2, 1, 2]\n"
   ]
  },
  {
   "cell_type": "markdown",
   "id": "6d0a8f9c",
   "metadata": {},
   "source": [
    "**3. Indexing**\n",
    "- Access elements using their position (starting from 0)."
   ]
  },
  {
   "cell_type": "code",
   "execution_count": null,
   "id": "b74977c6",
   "metadata": {
    "vscode": {
     "languageId": "plaintext"
    }
   },
   "outputs": [],
   "source": [
    "fruits = [\"apple\", \"banana\", \"cherry\"]\n",
    "print(fruits[0])   # apple\n",
    "print(fruits[-1])  # cherry (negative index starts from the end)"
   ]
  },
  {
   "cell_type": "markdown",
   "id": "1463261a",
   "metadata": {},
   "source": [
    "**4. Slicing**\n",
    "- Extract a portion of the list."
   ]
  },
  {
   "cell_type": "code",
   "execution_count": null,
   "id": "4640dc60",
   "metadata": {
    "vscode": {
     "languageId": "plaintext"
    }
   },
   "outputs": [],
   "source": [
    "numbers = [0, 1, 2, 3, 4, 5]\n",
    "print(numbers[1:4])   # [1, 2, 3]\n",
    "print(numbers[:3])    # [0, 1, 2]\n",
    "print(numbers[3:])    # [3, 4, 5]\n",
    "print(numbers[::2])   # [0, 2, 4] (step of 2)\n"
   ]
  },
  {
   "cell_type": "markdown",
   "id": "afc7fb57",
   "metadata": {},
   "source": [
    "**5. Membership (in / not in)**\n",
    "- Checks if an element exists in a list."
   ]
  },
  {
   "cell_type": "code",
   "execution_count": null,
   "id": "d1efc846",
   "metadata": {
    "vscode": {
     "languageId": "plaintext"
    }
   },
   "outputs": [],
   "source": [
    "colors = [\"red\", \"green\", \"blue\"]\n",
    "print(\"green\" in colors)   # True\n",
    "print(\"yellow\" not in colors)  # True"
   ]
  },
  {
   "cell_type": "markdown",
   "id": "ad32cbb1",
   "metadata": {},
   "source": [
    "**6. Length (len())**\n",
    "- Counts the number of elements in a list."
   ]
  },
  {
   "cell_type": "code",
   "execution_count": null,
   "id": "52d5a5d8",
   "metadata": {
    "vscode": {
     "languageId": "plaintext"
    }
   },
   "outputs": [],
   "source": [
    "\n",
    "items = [\"pen\", \"book\", \"laptop\"]\n",
    "print(len(items))  # 3"
   ]
  },
  {
   "cell_type": "markdown",
   "id": "c25b5ac6",
   "metadata": {},
   "source": [
    "**7. Min and Max (min() / max())**\n",
    "- Returns the smallest or largest element."
   ]
  },
  {
   "cell_type": "code",
   "execution_count": null,
   "id": "17260c3a",
   "metadata": {
    "vscode": {
     "languageId": "plaintext"
    }
   },
   "outputs": [],
   "source": [
    "nums = [5, 2, 9, 1]\n",
    "print(min(nums))  # 1\n",
    "print(max(nums))  # 9"
   ]
  },
  {
   "cell_type": "markdown",
   "id": "3e6d7c84",
   "metadata": {},
   "source": [
    "**8. Sum (sum())**\n",
    "- Adds all numerical elements in a list."
   ]
  },
  {
   "cell_type": "code",
   "execution_count": null,
   "id": "10b67007",
   "metadata": {
    "vscode": {
     "languageId": "plaintext"
    }
   },
   "outputs": [],
   "source": [
    "numbers = [1, 2, 3, 4]\n",
    "print(sum(numbers))  # 10"
   ]
  },
  {
   "cell_type": "markdown",
   "id": "0354c128",
   "metadata": {},
   "source": [
    "**9. List Comprehension**\n",
    "- Creates a list in a single line."
   ]
  },
  {
   "cell_type": "code",
   "execution_count": null,
   "id": "70385dda",
   "metadata": {
    "vscode": {
     "languageId": "plaintext"
    }
   },
   "outputs": [],
   "source": [
    "# This should be familiar already, right?\n",
    "\n",
    "squares = [x**2 for x in range(5)]\n",
    "print(squares)  # [0, 1, 4, 9, 16]\n"
   ]
  },
  {
   "cell_type": "markdown",
   "id": "1a778d59",
   "metadata": {},
   "source": [
    "**10. Copying a List**\n",
    "- Create a duplicate list."
   ]
  },
  {
   "cell_type": "code",
   "execution_count": null,
   "id": "81905956",
   "metadata": {
    "vscode": {
     "languageId": "plaintext"
    }
   },
   "outputs": [],
   "source": [
    "a = [1, 2, 3]\n",
    "b = a.copy()  # or b = list(a)\n",
    "print(b)  # [1, 2, 3]"
   ]
  }
 ],
 "metadata": {
  "language_info": {
   "name": "python"
  }
 },
 "nbformat": 4,
 "nbformat_minor": 5
}
