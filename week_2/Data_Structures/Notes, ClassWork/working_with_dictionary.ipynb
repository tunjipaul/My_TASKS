{
 "cells": [
  {
   "cell_type": "markdown",
   "id": "14bd710d",
   "metadata": {},
   "source": [
    "<!-- ### **Python Dictionaries** -->"
   ]
  },
  {
   "cell_type": "markdown",
   "id": "b22cab23",
   "metadata": {},
   "source": [
    "<!-- - A dictionary in Python is a collection of key-value pairs.\n",
    "\n",
    "  - **Keys** are unique and used to store and retrieve values.\n",
    "\n",
    "  - **Values** can be any data type (string, integer, list, tuple, even another dictionary). -->"
   ]
  },
  {
   "cell_type": "markdown",
   "id": "c248a768",
   "metadata": {},
   "source": [
    "<!-- **synax**\n",
    "\n",
    "`dictionary_name = {key1: value1, key2: value2}` -->"
   ]
  },
  {
   "cell_type": "markdown",
   "id": "4271dc39",
   "metadata": {},
   "source": [
    "<!-- **Characteristics of Dictionaries** -->"
   ]
  },
  {
   "cell_type": "markdown",
   "id": "f2bbc3f7",
   "metadata": {},
   "source": [
    "<!-- 1. **Key-Value Structure**: Each item is stored as a key: value pair.\n",
    "\n",
    "2. **Mutable**: You can add, change, or remove items.\n",
    "\n",
    "3. **Unordered (before Python 3.7)**:  From Python 3.7+, they maintain insertion order.\n",
    "\n",
    "4. **Unique Keys**:  No duplicate keys allowed; a new assignment to an existing key overwrites the old value.\n",
    "\n",
    "5. **Keys must be immutable**:  Strings, numbers, tuples (containing only immutable items) can be keys. -->"
   ]
  },
  {
   "cell_type": "markdown",
   "id": "8aea5f71",
   "metadata": {},
   "source": [
    "<!-- **Creating Dictionaries** -->"
   ]
  },
  {
   "cell_type": "code",
   "execution_count": null,
   "id": "02071843",
   "metadata": {
    "vscode": {
     "languageId": "plaintext"
    }
   },
   "outputs": [],
   "source": [
    "# 1. Using curly braces\n",
    "student = {\n",
    "    \"name\": \"Ada\",\n",
    "    \"age\": 20,\n",
    "    \"course\": \"Computer Science\"\n",
    "}\n",
    "print(student)"
   ]
  },
  {
   "cell_type": "code",
   "execution_count": null,
   "id": "0dcc03d3",
   "metadata": {
    "vscode": {
     "languageId": "plaintext"
    }
   },
   "outputs": [],
   "source": [
    "\n",
    "# 2. Using the dict() constructor\n",
    "student_info = dict(name=\"John\", age=25, course=\"Maths\")\n",
    "print(student_info)"
   ]
  },
  {
   "cell_type": "code",
   "execution_count": null,
   "id": "6be09ea0",
   "metadata": {
    "vscode": {
     "languageId": "plaintext"
    }
   },
   "outputs": [],
   "source": [
    "# 3. Empty dictionary\n",
    "empty_dict = {}\n",
    "print(empty_dict)"
   ]
  },
  {
   "cell_type": "markdown",
   "id": "d095c700",
   "metadata": {},
   "source": [
    "<!-- # 4. Dictionary Comprehension\n",
    "\n",
    "# Syntax:\n",
    "`{key_expression: value_expression for item in iterable if condition}` -->"
   ]
  },
  {
   "cell_type": "code",
   "execution_count": null,
   "id": "a49d1ac7",
   "metadata": {
    "vscode": {
     "languageId": "plaintext"
    }
   },
   "outputs": [],
   "source": [
    "# Create a dictionary of numbers and their squares\n",
    "squares = {x: x**2 for x in range(1, 6)}\n",
    "print(squares)"
   ]
  },
  {
   "cell_type": "code",
   "execution_count": null,
   "id": "189ab2df",
   "metadata": {
    "vscode": {
     "languageId": "plaintext"
    }
   },
   "outputs": [],
   "source": [
    "# With Condition\n",
    "\n",
    "# Dictionary of even numbers and their cubes\n",
    "evens_cube = {x: x**3 for x in range(1, 10) if x % 2 == 0}\n",
    "print(evens_cube)\n"
   ]
  },
  {
   "cell_type": "code",
   "execution_count": null,
   "id": "7b83ecd3",
   "metadata": {
    "vscode": {
     "languageId": "plaintext"
    }
   },
   "outputs": [],
   "source": [
    "#  From Existing Dictionary\n",
    "\n",
    "students = {\"Ada\": 85, \"John\": 40, \"Musa\": 65}\n",
    "\n",
    "# Filter students who passed (score >= 50)\n",
    "\n",
    "passed_students = {name: score for name, score in students.items() if score >= 50}\n",
    "print(passed_students)\n"
   ]
  },
  {
   "cell_type": "code",
   "execution_count": null,
   "id": "f2f6abb8",
   "metadata": {
    "vscode": {
     "languageId": "plaintext"
    }
   },
   "outputs": [],
   "source": [
    "# Using String Keys\n",
    "\n",
    "names = [\"Ada\", \"John\", \"Musa\"]\n",
    "lengths = {name: len(name) for name in names}\n",
    "print(lengths)"
   ]
  },
  {
   "cell_type": "markdown",
   "id": "e1e16d2b",
   "metadata": {},
   "source": [
    "<!-- **Accessing Dictionary Items** -->"
   ]
  },
  {
   "cell_type": "code",
   "execution_count": null,
   "id": "087a974b",
   "metadata": {
    "vscode": {
     "languageId": "plaintext"
    }
   },
   "outputs": [],
   "source": [
    "# Define a dictionary\n",
    "student = {\"name\": \"Ada\", \"age\": 20, \"course\": \"Computer Science\"}"
   ]
  },
  {
   "cell_type": "code",
   "execution_count": null,
   "id": "c16e2213",
   "metadata": {
    "vscode": {
     "languageId": "plaintext"
    }
   },
   "outputs": [],
   "source": [
    "# Using key\n",
    "print(student[\"name\"])\n",
    "\n",
    "# Using get() method (avoids error if key is missing)\n",
    "print(student.get(\"age\"))\n",
    "print(student.get(\"grade\", \"Not Found\"))\n"
   ]
  },
  {
   "cell_type": "markdown",
   "id": "8484c374",
   "metadata": {},
   "source": [
    "<!-- **Modifying Dictionaries** -->"
   ]
  },
  {
   "cell_type": "markdown",
   "id": "9b42dbd8",
   "metadata": {},
   "source": [
    "<!-- student[\"age\"] = 21  # Change value\n",
    "\n",
    "student[\"grade\"] = \"A\"  # Add new key-value pair\n",
    "\n",
    "print(student) -->"
   ]
  },
  {
   "cell_type": "markdown",
   "id": "34281d20",
   "metadata": {},
   "source": [
    "<!-- **Removing Items from Dictionaries** -->"
   ]
  },
  {
   "cell_type": "code",
   "execution_count": null,
   "id": "37f81db5",
   "metadata": {
    "vscode": {
     "languageId": "plaintext"
    }
   },
   "outputs": [],
   "source": [
    "# 1.  Using pop()\n",
    "student.pop(\"grade\")\n",
    "\n",
    "# 2. Using popitem() - removes last inserted key-value\n",
    "student.popitem()\n",
    "\n",
    "# 3. Using del keyword\n",
    "del student[\"course\"]\n",
    "\n",
    "# 4. Using clear() - removes all items\n",
    "student.clear()\n",
    "\n",
    "print(student)"
   ]
  },
  {
   "cell_type": "markdown",
   "id": "61569007",
   "metadata": {},
   "source": [
    "<!-- **Dictionary Methods**\n",
    "- dot keys(), dot values(), dot items(), dot update() -->"
   ]
  },
  {
   "cell_type": "code",
   "execution_count": null,
   "id": "7ef133e3",
   "metadata": {
    "vscode": {
     "languageId": "plaintext"
    }
   },
   "outputs": [],
   "source": [
    "person = {\"name\": \"Emeka\", \"age\": 30}\n",
    "\n",
    "# 1. keys()\n",
    "print(person.keys())"
   ]
  },
  {
   "cell_type": "code",
   "execution_count": null,
   "id": "775cf07b",
   "metadata": {
    "vscode": {
     "languageId": "plaintext"
    }
   },
   "outputs": [],
   "source": [
    "\n",
    "# 2. values()\n",
    "print(person.values())"
   ]
  },
  {
   "cell_type": "code",
   "execution_count": null,
   "id": "fbdfecfe",
   "metadata": {
    "vscode": {
     "languageId": "plaintext"
    }
   },
   "outputs": [],
   "source": [
    "# 3. items()\n",
    "print(person.items())"
   ]
  },
  {
   "cell_type": "code",
   "execution_count": null,
   "id": "bc057e05",
   "metadata": {
    "vscode": {
     "languageId": "plaintext"
    }
   },
   "outputs": [],
   "source": [
    "# 4. update()\n",
    "person.update({\"age\": 31, \"city\": \"Lagos\"})\n",
    "print(person)"
   ]
  },
  {
   "cell_type": "markdown",
   "id": "04f1c4d4",
   "metadata": {},
   "source": [
    "<!-- **Nested Dictionaries** -->"
   ]
  },
  {
   "cell_type": "code",
   "execution_count": null,
   "id": "a929c083",
   "metadata": {
    "vscode": {
     "languageId": "plaintext"
    }
   },
   "outputs": [],
   "source": [
    "students = {\n",
    "    \"student1\": {\"name\": \"Ada\", \"age\": 20},\n",
    "    \"student2\": {\"name\": \"John\", \"age\": 22}\n",
    "}\n",
    "\n",
    "print(students[\"student1\"][\"name\"])  # Access nested data"
   ]
  },
  {
   "cell_type": "markdown",
   "id": "d8f49fde",
   "metadata": {},
   "source": [
    "<!-- **Looping Through Dictionaries** -->"
   ]
  },
  {
   "cell_type": "code",
   "execution_count": null,
   "id": "1a55f52d",
   "metadata": {
    "vscode": {
     "languageId": "plaintext"
    }
   },
   "outputs": [],
   "source": [
    "# Define a dictionary\n",
    "student = {\"name\": \"Ada\", \"age\": 20, \"course\": \"Computer Science\"}"
   ]
  },
  {
   "cell_type": "code",
   "execution_count": null,
   "id": "59f807ad",
   "metadata": {
    "vscode": {
     "languageId": "plaintext"
    }
   },
   "outputs": [],
   "source": [
    "# Loop through keys\n",
    "for key in student:\n",
    "    print(key)"
   ]
  },
  {
   "cell_type": "code",
   "execution_count": null,
   "id": "f31082eb",
   "metadata": {
    "vscode": {
     "languageId": "plaintext"
    }
   },
   "outputs": [],
   "source": [
    "# Loop through values\n",
    "for value in student.values():\n",
    "    print(value)"
   ]
  },
  {
   "cell_type": "code",
   "execution_count": null,
   "id": "cd0cbce7",
   "metadata": {
    "vscode": {
     "languageId": "plaintext"
    }
   },
   "outputs": [],
   "source": [
    "# Loop through key-value pairs\n",
    "for key, value in student.items():\n",
    "    print(f\"{key}: {value}\")"
   ]
  },
  {
   "cell_type": "code",
   "execution_count": null,
   "id": "c4ce4b1f",
   "metadata": {
    "vscode": {
     "languageId": "plaintext"
    }
   },
   "outputs": [],
   "source": [
    "# Storing a student's biodata\n",
    "student = {\n",
    "    \"name\": \"Chinedu\",\n",
    "    \"age\": 19,\n",
    "    \"department\": \"Engineering\",\n",
    "    \"subjects\": [\"Maths\", \"Physics\", \"Chemistry\"],\n",
    "    \"is_full_time\": True\n",
    "}\n",
    "\n",
    "print(f\"Name: {student['name']}\")\n",
    "print(f\"Subjects: {', '.join(student['subjects'])}\")"
   ]
  },
  {
   "cell_type": "markdown",
   "id": "f0fd0955",
   "metadata": {},
   "source": [
    "<!-- **Final Thought** -->"
   ]
  },
  {
   "cell_type": "markdown",
   "id": "bbd376ad",
   "metadata": {},
   "source": [
    "<!-- # Storing a student's biodata\n",
    "student = {\n",
    "    \"name\": \"Chinedu\",\n",
    "    \"age\": 19,\n",
    "    \"department\": \"Engineering\",\n",
    "    \"subjects\": [\"Maths\", \"Physics\", \"Chemistry\"],\n",
    "    \"is_full_time\": True\n",
    "}\n",
    "\n",
    "print(f\"Name: {student['name']}\")\n",
    "print(f\"Subjects: {', '.join(student['subjects'])}\") -->"
   ]
  }
 ],
 "metadata": {
  "language_info": {
   "name": "python"
  }
 },
 "nbformat": 4,
 "nbformat_minor": 5
}
