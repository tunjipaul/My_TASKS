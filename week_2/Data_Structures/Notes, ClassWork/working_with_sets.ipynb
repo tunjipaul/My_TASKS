{
 "cells": [
  {
   "cell_type": "markdown",
   "id": "148d2040",
   "metadata": {},
   "source": [
    "### **Sets in Python**"
   ]
  },
  {
   "cell_type": "markdown",
   "id": "2502a390",
   "metadata": {},
   "source": [
    "- In Python, a set is an unordered collection of unique elements. Sets are useful when you want to store multiple items but avoid duplicates."
   ]
  },
  {
   "cell_type": "markdown",
   "id": "5563457d",
   "metadata": {},
   "source": [
    "**Creating Sets**"
   ]
  },
  {
   "cell_type": "code",
   "execution_count": null,
   "id": "e5f69f97",
   "metadata": {
    "vscode": {
     "languageId": "plaintext"
    }
   },
   "outputs": [],
   "source": [
    "# 1. Using curly braces\n",
    "fruits = {\"apple\", \"banana\", \"mango\"}\n",
    "print(fruits)"
   ]
  },
  {
   "cell_type": "code",
   "execution_count": null,
   "id": "d61e9c8d",
   "metadata": {
    "vscode": {
     "languageId": "plaintext"
    }
   },
   "outputs": [],
   "source": [
    "# 2. Using the set() constructor\n",
    "numbers = set([1, 2, 3, 4])\n",
    "print(numbers)"
   ]
  },
  {
   "cell_type": "code",
   "execution_count": null,
   "id": "080f444d",
   "metadata": {
    "vscode": {
     "languageId": "plaintext"
    }
   },
   "outputs": [],
   "source": [
    "\n",
    "# 3. Creating an empty set (must use set(), not {})\n",
    "empty_set = set()\n",
    "print(empty_set)"
   ]
  },
  {
   "cell_type": "code",
   "execution_count": null,
   "id": "88d01b6f",
   "metadata": {
    "vscode": {
     "languageId": "plaintext"
    }
   },
   "outputs": [],
   "source": [
    "# 4. From a string (duplicates removed automatically)\n",
    "letters = set(\"mississippi\")\n",
    "print(letters)"
   ]
  },
  {
   "cell_type": "markdown",
   "id": "c2f33d9d",
   "metadata": {},
   "source": [
    "**Characteristics of Sets**\n",
    "1. Unordered: No defined indexing or sequence.\n",
    "\n",
    "2. Unique elements: Duplicates are automatically removed.\n",
    "\n",
    "3. Mutable: You can add or remove items.\n",
    "\n",
    "4. Unindexed: You can’t access elements using an index like my_set[0].\n",
    "\n",
    "5. Supports mathematical set operations: Union, intersection, difference, symmetric difference."
   ]
  },
  {
   "cell_type": "markdown",
   "id": "1aff4679",
   "metadata": {},
   "source": [
    "**Set Operations**"
   ]
  },
  {
   "cell_type": "markdown",
   "id": "ed72ab0e",
   "metadata": {},
   "source": [
    "**a. Adding Elements**"
   ]
  },
  {
   "cell_type": "code",
   "execution_count": null,
   "id": "8a5b8dbe",
   "metadata": {
    "vscode": {
     "languageId": "plaintext"
    }
   },
   "outputs": [],
   "source": [
    "colors = {\"red\", \"blue\"}\n",
    "colors.add(\"green\")\n",
    "print(colors)"
   ]
  },
  {
   "cell_type": "markdown",
   "id": "19ab9684",
   "metadata": {},
   "source": [
    "**b. Removing Elements**"
   ]
  },
  {
   "cell_type": "code",
   "execution_count": null,
   "id": "ee750eed",
   "metadata": {
    "vscode": {
     "languageId": "plaintext"
    }
   },
   "outputs": [],
   "source": [
    "colors.remove(\"blue\")   # Removes an element, raises error if not found\n",
    "colors.discard(\"yellow\") # Removes if found, no error if missing\n",
    "print(colors)"
   ]
  },
  {
   "cell_type": "markdown",
   "id": "7ea667a0",
   "metadata": {},
   "source": [
    "**c. Pop an element**"
   ]
  },
  {
   "cell_type": "code",
   "execution_count": null,
   "id": "8ca2147b",
   "metadata": {
    "vscode": {
     "languageId": "plaintext"
    }
   },
   "outputs": [],
   "source": [
    "colors = {\"red\", \"blue\", \"green\"}\n",
    "removed = colors.pop()\n",
    "print(\"Removed:\", removed)\n",
    "print(\"Remaining:\", colors)"
   ]
  },
  {
   "cell_type": "markdown",
   "id": "aebb2346",
   "metadata": {},
   "source": [
    "**d. Clear a Set**"
   ]
  },
  {
   "cell_type": "code",
   "execution_count": null,
   "id": "69e5658f",
   "metadata": {
    "vscode": {
     "languageId": "plaintext"
    }
   },
   "outputs": [],
   "source": [
    "colors.clear()\n",
    "print(colors)"
   ]
  },
  {
   "cell_type": "markdown",
   "id": "8db1daa4",
   "metadata": {},
   "source": [
    "**Mathematical Set Operations**"
   ]
  },
  {
   "cell_type": "code",
   "execution_count": null,
   "id": "c9e255da",
   "metadata": {
    "vscode": {
     "languageId": "plaintext"
    }
   },
   "outputs": [],
   "source": [
    "set1 = {1, 2, 3, 4}\n",
    "set2 = {3, 4, 5, 6}"
   ]
  },
  {
   "cell_type": "code",
   "execution_count": null,
   "id": "cd92a0c1",
   "metadata": {
    "vscode": {
     "languageId": "plaintext"
    }
   },
   "outputs": [],
   "source": [
    "# 1. Union\n",
    "print(set1 | set2)\n",
    "print(set1.union(set2))"
   ]
  },
  {
   "cell_type": "code",
   "execution_count": null,
   "id": "9ca57f13",
   "metadata": {
    "vscode": {
     "languageId": "plaintext"
    }
   },
   "outputs": [],
   "source": [
    "\n",
    "# 2. Intersection\n",
    "print(set1 & set2)\n",
    "print(set1.intersection(set2))"
   ]
  },
  {
   "cell_type": "code",
   "execution_count": null,
   "id": "d08f2ebc",
   "metadata": {
    "vscode": {
     "languageId": "plaintext"
    }
   },
   "outputs": [],
   "source": [
    "# 3. Difference\n",
    "print(set1 - set2)\n",
    "print(set1.difference(set2))"
   ]
  },
  {
   "cell_type": "code",
   "execution_count": null,
   "id": "2969f5fc",
   "metadata": {
    "vscode": {
     "languageId": "plaintext"
    }
   },
   "outputs": [],
   "source": [
    "# 4. Symmetric Difference\n",
    "print(set1 ^ set2)\n",
    "print(set1.symmetric_difference(set2))"
   ]
  },
  {
   "cell_type": "markdown",
   "id": "0db96021",
   "metadata": {},
   "source": [
    "**Working with Sets**"
   ]
  },
  {
   "cell_type": "code",
   "execution_count": null,
   "id": "339f4fd0",
   "metadata": {
    "vscode": {
     "languageId": "plaintext"
    }
   },
   "outputs": [],
   "source": [
    "# Collecting unique visitors to an event\n",
    "visitors = set()\n",
    "\n",
    "# Adding visitors\n",
    "visitors.add(\"Chinedu\")\n",
    "visitors.add(\"Aisha\")\n",
    "visitors.add(\"Chinedu\") # Duplicate, ignored automatically\n",
    "print(\"Visitors:\", visitors)\n",
    "\n",
    "# Checking if a visitor attended\n",
    "# (Dont worry if you can't figure this part out yet. We will discuss it properly later in the course.)\n",
    "\n",
    "name = \"Aisha\"\n",
    "if name in visitors:\n",
    "    print(f\"{name} attended the event.\")\n",
    "else:\n",
    "    print(f\"{name} did not attend the event.\")"
   ]
  }
 ],
 "metadata": {
  "language_info": {
   "name": "python"
  }
 },
 "nbformat": 4,
 "nbformat_minor": 5
}
