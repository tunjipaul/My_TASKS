{
 "cells": [
  {
   "cell_type": "markdown",
   "id": "cb5ea5ac",
   "metadata": {},
   "source": []
  },
  {
   "cell_type": "markdown",
   "id": "26375402",
   "metadata": {},
   "source": [
    "### **Tules**"
   ]
  },
  {
   "cell_type": "markdown",
   "id": "436fb1ad",
   "metadata": {},
   "source": [
    "- A tuple is an ordered, immutable (unchangeable) collection of items in Python."
   ]
  },
  {
   "cell_type": "markdown",
   "id": "e845ddc9",
   "metadata": {},
   "source": [
    "**Creating Tuples**"
   ]
  },
  {
   "cell_type": "markdown",
   "id": "819848a1",
   "metadata": {},
   "source": [
    "**1. Using parentheses ()**"
   ]
  },
  {
   "cell_type": "code",
   "execution_count": null,
   "id": "0133b7b0",
   "metadata": {
    "vscode": {
     "languageId": "plaintext"
    }
   },
   "outputs": [],
   "source": [
    "# Example 1: tuple with multiple items\n",
    "fruits = (\"apple\", \"banana\", \"cherry\")\n",
    "print(fruits)  # ('apple', 'banana', 'cherry')"
   ]
  },
  {
   "cell_type": "markdown",
   "id": "5c97afeb",
   "metadata": {},
   "source": [
    "**2. Without parentheses (tuple packing)**"
   ]
  },
  {
   "cell_type": "code",
   "execution_count": null,
   "id": "6a60b08b",
   "metadata": {
    "vscode": {
     "languageId": "plaintext"
    }
   },
   "outputs": [],
   "source": [
    "numbers = 1, 2, 3\n",
    "print(numbers)  # (1, 2, 3)"
   ]
  },
  {
   "cell_type": "markdown",
   "id": "bab40e82",
   "metadata": {},
   "source": [
    "**3. Single-item tuple (must include a comma)**"
   ]
  },
  {
   "cell_type": "code",
   "execution_count": null,
   "id": "6f701e18",
   "metadata": {
    "vscode": {
     "languageId": "plaintext"
    }
   },
   "outputs": [],
   "source": [
    "single_item = (\"apple\",)\n",
    "print(single_item)       # ('apple',)\n",
    "print(type(single_item)) # <class 'tuple'>"
   ]
  },
  {
   "cell_type": "markdown",
   "id": "01f2702a",
   "metadata": {},
   "source": [
    "**4. Using the tuple() constructor**"
   ]
  },
  {
   "cell_type": "code",
   "execution_count": null,
   "id": "87630ad8",
   "metadata": {
    "vscode": {
     "languageId": "plaintext"
    }
   },
   "outputs": [],
   "source": [
    "fruits_list = [\"apple\", \"banana\", \"cherry\"]\n",
    "fruits_tuple = tuple(fruits_list)\n",
    "print(fruits_tuple)  # ('apple', 'banana', 'cherry')"
   ]
  },
  {
   "cell_type": "markdown",
   "id": "52f22f42",
   "metadata": {},
   "source": [
    "**Characteristics of Tuples**"
   ]
  },
  {
   "cell_type": "markdown",
   "id": "231f483d",
   "metadata": {},
   "source": [
    "1. Ordered – Items have a fixed position.\n",
    "\n",
    "2. Immutable – Cannot change after creation.\n",
    "\n",
    "3. Allow duplicates – Same value can appear multiple times.\n",
    "\n",
    "4. Can contain mixed data types – Strings, integers, lists, etc.\n",
    "\n",
    "5. Can be nested – Tuples inside tuples."
   ]
  },
  {
   "cell_type": "code",
   "execution_count": null,
   "id": "5cc55005",
   "metadata": {
    "vscode": {
     "languageId": "plaintext"
    }
   },
   "outputs": [],
   "source": [
    "# Ordered\n",
    "colors = (\"red\", \"green\", \"blue\")\n",
    "print(colors[0])  # red"
   ]
  },
  {
   "cell_type": "code",
   "execution_count": null,
   "id": "9155d209",
   "metadata": {
    "vscode": {
     "languageId": "plaintext"
    }
   },
   "outputs": [],
   "source": [
    "\n",
    "# Immutable ( uncomment and run. This will cause an error)\n",
    "# colors[1] = \"yellow\"  #  TypeError"
   ]
  },
  {
   "cell_type": "code",
   "execution_count": null,
   "id": "5050343b",
   "metadata": {
    "vscode": {
     "languageId": "plaintext"
    }
   },
   "outputs": [],
   "source": [
    "# Allow duplicates\n",
    "numbers = (1, 2, 2, 3)\n",
    "print(numbers)  # (1, 2, 2, 3)"
   ]
  },
  {
   "cell_type": "code",
   "execution_count": null,
   "id": "d0bd4483",
   "metadata": {
    "vscode": {
     "languageId": "plaintext"
    }
   },
   "outputs": [],
   "source": [
    "# Mixed data types\n",
    "mixed = (\"apple\", 3, True, 5.6)\n",
    "print(mixed)  # ('apple', 3, True, 5.6)"
   ]
  },
  {
   "cell_type": "code",
   "execution_count": null,
   "id": "48465fa2",
   "metadata": {
    "vscode": {
     "languageId": "plaintext"
    }
   },
   "outputs": [],
   "source": [
    "# Nested tuples\n",
    "nested = ((\"a\", \"b\"), (1, 2))\n",
    "print(nested)  # (('a', 'b'), (1, 2))"
   ]
  },
  {
   "cell_type": "markdown",
   "id": "e10c0c2e",
   "metadata": {},
   "source": [
    "**Tuple Operations**\n",
    "- Even though tuples are immutable, you can still perform several operations"
   ]
  },
  {
   "cell_type": "code",
   "execution_count": null,
   "id": "c5ea352d",
   "metadata": {
    "vscode": {
     "languageId": "plaintext"
    }
   },
   "outputs": [],
   "source": [
    "# 1. Indexing\n",
    "\n",
    "fruits = (\"apple\", \"banana\", \"cherry\")\n",
    "print(fruits[1])   # banana\n",
    "print(fruits[-1])  # cherry"
   ]
  },
  {
   "cell_type": "code",
   "execution_count": null,
   "id": "dc7f7d55",
   "metadata": {
    "vscode": {
     "languageId": "plaintext"
    }
   },
   "outputs": [],
   "source": [
    "# 2. Slicing\n",
    "\n",
    "print(fruits[0:2])   # ('apple', 'banana')\n",
    "print(fruits[::-1])  # ('cherry', 'banana', 'apple')"
   ]
  },
  {
   "cell_type": "code",
   "execution_count": null,
   "id": "7c8ca035",
   "metadata": {
    "vscode": {
     "languageId": "plaintext"
    }
   },
   "outputs": [],
   "source": [
    "# 3. Concatenation\n",
    "tuple1 = (1, 2)\n",
    "tuple2 = (3, 4)\n",
    "result = tuple1 + tuple2\n",
    "print(result)  # (1, 2, 3, 4)"
   ]
  },
  {
   "cell_type": "code",
   "execution_count": null,
   "id": "cbd7b4cf",
   "metadata": {
    "vscode": {
     "languageId": "plaintext"
    }
   },
   "outputs": [],
   "source": [
    "# 4. Repetition\n",
    "nums = (1, 2)\n",
    "print(nums * 3)  # (1, 2, 1, 2, 1, 2)"
   ]
  },
  {
   "cell_type": "code",
   "execution_count": null,
   "id": "a1787fdf",
   "metadata": {
    "vscode": {
     "languageId": "plaintext"
    }
   },
   "outputs": [],
   "source": [
    "# 5. Membership\n",
    "\n",
    "fruits = (\"apple\", \"banana\", \"cherry\")\n",
    "print(\"banana\" in fruits)  # True\n",
    "print(\"grape\" not in fruits)  # True"
   ]
  },
  {
   "cell_type": "code",
   "execution_count": null,
   "id": "310c4a0c",
   "metadata": {
    "vscode": {
     "languageId": "plaintext"
    }
   },
   "outputs": [],
   "source": [
    "# 6. Iteration\n",
    "for fruit in fruits:\n",
    "    print(fruit)"
   ]
  },
  {
   "cell_type": "markdown",
   "id": "c2c0aa41",
   "metadata": {},
   "source": [
    "**Working with Tuples**\n",
    "\n",
    "- You can’t modify a tuple directly, but you can\n",
    "\n",
    "   - Convert it to a list, modify it, then convert back.\n",
    "\n",
    "   - Use built-in functions to work with tuple contents."
   ]
  },
  {
   "cell_type": "markdown",
   "id": "d46433df",
   "metadata": {},
   "source": [
    "# 1. Unpacking Tuples\n",
    "person = (\"John\", 25, \"Nigeria\")\n",
    "name, age, country = person\n",
    "print(name)     # John\n",
    "print(age)      # 25\n",
    "print(country)  # Nigeria"
   ]
  },
  {
   "cell_type": "markdown",
   "id": "57fb4a98",
   "metadata": {},
   "source": [
    "**Tuple Methods**\n",
    " - Tuples have only two methods."
   ]
  },
  {
   "cell_type": "code",
   "execution_count": null,
   "id": "9da6179a",
   "metadata": {
    "vscode": {
     "languageId": "plaintext"
    }
   },
   "outputs": [],
   "source": [
    "# dont count() and dot index()\n",
    "\n",
    "numbers = (1, 2, 2, 3, 4)\n",
    "\n",
    "print(numbers.count(2))  # 2  (counts occurrences of 2)\n",
    "print(numbers.index(3))  # 3  (position of first occurrence of 3)\n"
   ]
  },
  {
   "cell_type": "markdown",
   "id": "6fcb5806",
   "metadata": {},
   "source": [
    "**Converting Between List and Tuple**"
   ]
  },
  {
   "cell_type": "code",
   "execution_count": null,
   "id": "9df20bb7",
   "metadata": {
    "vscode": {
     "languageId": "plaintext"
    }
   },
   "outputs": [],
   "source": [
    "# Tuple to List\n",
    "t = (1, 2, 3)\n",
    "lst = list(t)\n",
    "lst.append(4)\n",
    "print(lst)  # [1, 2, 3, 4]"
   ]
  },
  {
   "cell_type": "code",
   "execution_count": null,
   "id": "5b5c5b67",
   "metadata": {
    "vscode": {
     "languageId": "plaintext"
    }
   },
   "outputs": [],
   "source": [
    "# List back to Tuple\n",
    "t = tuple(lst)\n",
    "print(t)  # (1, 2, 3, 4)"
   ]
  },
  {
   "cell_type": "markdown",
   "id": "7955ac9c",
   "metadata": {},
   "source": [
    "**Built-in Functions with Tuples**"
   ]
  },
  {
   "cell_type": "code",
   "execution_count": null,
   "id": "43ecbffb",
   "metadata": {
    "vscode": {
     "languageId": "plaintext"
    }
   },
   "outputs": [],
   "source": [
    "nums = (4, 1, 7, 3)\n",
    "\n",
    "print(len(nums))   # 4\n",
    "print(max(nums))   # 7\n",
    "print(min(nums))   # 1\n",
    "print(sum(nums))   # 15\n"
   ]
  },
  {
   "cell_type": "markdown",
   "id": "e497b849",
   "metadata": {},
   "source": []
  },
  {
   "cell_type": "markdown",
   "id": "2059b368",
   "metadata": {},
   "source": []
  },
  {
   "cell_type": "markdown",
   "id": "ca50daf3",
   "metadata": {},
   "source": []
  }
 ],
 "metadata": {
  "language_info": {
   "name": "python"
  }
 },
 "nbformat": 4,
 "nbformat_minor": 5
}
