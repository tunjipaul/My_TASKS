{
 "cells": [
  {
   "cell_type": "markdown",
   "id": "d1fb6a79",
   "metadata": {},
   "source": [
    "\n",
    "- Creating and manipulating strings.\n",
    "\n",
    "  - upper()\n",
    "  - lower()\n",
    "  - title()\n",
    "  - strip()\n",
    "  - replace()\n",
    "  - capitalize()\n",
    "  - swapcase()\n",
    "  - strip()\n",
    "  - lstrip()\n",
    "  - rstrip()\n",
    "  - split()\n",
    "  - rsplit()\n",
    "  - splitlines()\n",
    "  - join()\n",
    "  - replace()\n",
    "  - center()\n",
    "  - ljust()\n",
    "  - rjust()\n",
    "  - zfill()\n",
    "  - isalpha()\n",
    "  - isdigit()\n",
    "  - isalnum()\n",
    "  - isspace()\n",
    "  - islower()\n",
    "  - isupper()\n",
    "  - istitle()"
   ]
  },
  {
   "cell_type": "markdown",
   "id": "d58a2fbb",
   "metadata": {},
   "source": [
    "**upper()**\n",
    "- Converts all characters in the string to uppercase."
   ]
  },
  {
   "cell_type": "code",
   "execution_count": null,
   "id": "b96454cd",
   "metadata": {
    "vscode": {
     "languageId": "plaintext"
    }
   },
   "outputs": [],
   "source": [
    "name = \"Ada Balogun\"\n",
    "print(name.upper())  \n",
    "# Output: Ada Balogun"
   ]
  },
  {
   "cell_type": "markdown",
   "id": "f53ae077",
   "metadata": {},
   "source": [
    "**lower()**\n",
    "- Converts all characters in the string to lowercase."
   ]
  },
  {
   "cell_type": "code",
   "execution_count": null,
   "id": "5e44072c",
   "metadata": {
    "vscode": {
     "languageId": "plaintext"
    }
   },
   "outputs": [],
   "source": [
    "sentence = \"python is amazing\"\n",
    "print(sentence.title())  \n",
    "# Output: Python Is Amazing\n"
   ]
  },
  {
   "cell_type": "markdown",
   "id": "b4592450",
   "metadata": {},
   "source": [
    "**strip()**\n",
    "- Removes whitespace (or specified characters) from both ends of the string."
   ]
  },
  {
   "cell_type": "code",
   "execution_count": null,
   "id": "1182abe8",
   "metadata": {
    "vscode": {
     "languageId": "plaintext"
    }
   },
   "outputs": [],
   "source": [
    "text = \"   Abuja   \"\n",
    "print(text.strip())  \n",
    "# Output: Abuja\n"
   ]
  },
  {
   "cell_type": "markdown",
   "id": "99df7b7f",
   "metadata": {},
   "source": [
    "**replace()**\n",
    "- Replaces occurrences of a substring with another substring."
   ]
  },
  {
   "cell_type": "code",
   "execution_count": null,
   "id": "e52c9f5b",
   "metadata": {
    "vscode": {
     "languageId": "plaintext"
    }
   },
   "outputs": [],
   "source": [
    "message = \"I love Java\"\n",
    "print(message.replace(\"Java\", \"Python\"))  \n",
    "# Output: I love Python"
   ]
  },
  {
   "cell_type": "markdown",
   "id": "77fd89f1",
   "metadata": {},
   "source": [
    "**swapcase()**\n",
    "-  Switches lowercase to uppercase and vice versa."
   ]
  },
  {
   "cell_type": "code",
   "execution_count": null,
   "id": "1c02844f",
   "metadata": {
    "vscode": {
     "languageId": "plaintext"
    }
   },
   "outputs": [],
   "source": [
    "text = \"Hello ABEOKUTA\"\n",
    "print(text.swapcase())  \n",
    "# Output: hELLO abeokuta\n"
   ]
  },
  {
   "cell_type": "markdown",
   "id": "80d51318",
   "metadata": {},
   "source": [
    "**lstrip()**\n",
    "- Removes whitespace (or specified characters) from the left side only."
   ]
  },
  {
   "cell_type": "code",
   "execution_count": null,
   "id": "c7683f54",
   "metadata": {
    "vscode": {
     "languageId": "plaintext"
    }
   },
   "outputs": [],
   "source": [
    "text = \"   Nigeria\"\n",
    "print(text.lstrip())  \n",
    "# Output: Nigeria"
   ]
  },
  {
   "cell_type": "markdown",
   "id": "c649a0f1",
   "metadata": {},
   "source": [
    "**rstrip()**\n",
    "- Removes whitespace (or specified characters) from the right side only."
   ]
  },
  {
   "cell_type": "code",
   "execution_count": null,
   "id": "49aefd84",
   "metadata": {
    "vscode": {
     "languageId": "plaintext"
    }
   },
   "outputs": [],
   "source": [
    "text = \"Nigeria   \"\n",
    "print(text.rstrip())  \n",
    "# Output: Nigeria\n"
   ]
  },
  {
   "cell_type": "markdown",
   "id": "c329b875",
   "metadata": {},
   "source": [
    "**split()**\n",
    "-  Splits a string into a list using a separator (default is space)."
   ]
  },
  {
   "cell_type": "code",
   "execution_count": null,
   "id": "c58188dc",
   "metadata": {
    "vscode": {
     "languageId": "plaintext"
    }
   },
   "outputs": [],
   "source": [
    "fruits = \"mango orange banana\"\n",
    "print(fruits.split())  \n",
    "# Output: ['mango', 'orange', 'banana']\n"
   ]
  },
  {
   "cell_type": "markdown",
   "id": "9d83f38a",
   "metadata": {},
   "source": [
    "**rsplit()**\n",
    "- Splits a string into a list from the right side."
   ]
  },
  {
   "cell_type": "code",
   "execution_count": null,
   "id": "8a461917",
   "metadata": {
    "vscode": {
     "languageId": "plaintext"
    }
   },
   "outputs": [],
   "source": [
    "text = \"one,two,three,four\"\n",
    "print(text.rsplit(\",\", 2))  \n",
    "# Output: ['one,two', 'three', 'four']"
   ]
  },
  {
   "cell_type": "markdown",
   "id": "3b1f42c5",
   "metadata": {},
   "source": [
    "**splitlines()**\n",
    "- Splits a string into a list at each newline (\\n)."
   ]
  },
  {
   "cell_type": "code",
   "execution_count": null,
   "id": "9d3a3d2e",
   "metadata": {
    "vscode": {
     "languageId": "plaintext"
    }
   },
   "outputs": [],
   "source": [
    "lines = \"Line 1\\nLine 2\\nLine 3\"\n",
    "print(lines.splitlines())  \n",
    "# Output: ['Line 1', 'Line 2', 'Line 3']"
   ]
  },
  {
   "cell_type": "markdown",
   "id": "295f7bdf",
   "metadata": {},
   "source": [
    "**join()**\n",
    "- Joins a list of strings into one string with a specified separator."
   ]
  },
  {
   "cell_type": "code",
   "execution_count": null,
   "id": "9e5091ce",
   "metadata": {
    "vscode": {
     "languageId": "plaintext"
    }
   },
   "outputs": [],
   "source": [
    "words = [\"I\", \"love\", \"Python\"]\n",
    "print(\" \".join(words))  \n",
    "# Output: I love Python"
   ]
  },
  {
   "cell_type": "markdown",
   "id": "4548566f",
   "metadata": {},
   "source": [
    "**center()**\n",
    "-  Centers the string within a specified width, padding with spaces or characters."
   ]
  },
  {
   "cell_type": "code",
   "execution_count": null,
   "id": "c3f2bc52",
   "metadata": {
    "vscode": {
     "languageId": "plaintext"
    }
   },
   "outputs": [],
   "source": [
    "text = \"Python\"\n",
    "print(text.center(20, \"-\"))  \n",
    "# Output: -------Python-------\n"
   ]
  },
  {
   "cell_type": "markdown",
   "id": "0dd10d60",
   "metadata": {},
   "source": [
    "**ljust()**\n",
    "- Left-aligns the string within a specified width, padding with spaces or characters."
   ]
  },
  {
   "cell_type": "code",
   "execution_count": null,
   "id": "cc8546e8",
   "metadata": {
    "vscode": {
     "languageId": "plaintext"
    }
   },
   "outputs": [],
   "source": [
    "text = \"Python\"\n",
    "print(text.ljust(10, \"*\"))  \n",
    "# Output: Python****"
   ]
  },
  {
   "cell_type": "markdown",
   "id": "ed0c982d",
   "metadata": {},
   "source": [
    "**rjust()**\n",
    "- Right-aligns the string within a specified width, padding with spaces or characters."
   ]
  },
  {
   "cell_type": "code",
   "execution_count": null,
   "id": "285a02c4",
   "metadata": {
    "vscode": {
     "languageId": "plaintext"
    }
   },
   "outputs": [],
   "source": [
    "text = \"Python\"\n",
    "print(text.rjust(10, \"*\"))  \n",
    "# Output: ****Python"
   ]
  },
  {
   "cell_type": "markdown",
   "id": "7c30ba12",
   "metadata": {},
   "source": [
    "**zfill()**\n",
    "- Pads a numeric string on the left with zeros until it reaches a given length."
   ]
  },
  {
   "cell_type": "code",
   "execution_count": null,
   "id": "4915442d",
   "metadata": {
    "vscode": {
     "languageId": "plaintext"
    }
   },
   "outputs": [],
   "source": [
    "num = \"42\"\n",
    "print(num.zfill(5))  \n",
    "# Output: 00042"
   ]
  },
  {
   "cell_type": "markdown",
   "id": "54118d93",
   "metadata": {},
   "source": [
    "**isalpha()**\n",
    "-  Checks if the string contains only letters."
   ]
  },
  {
   "cell_type": "code",
   "execution_count": null,
   "id": "c40236af",
   "metadata": {
    "vscode": {
     "languageId": "plaintext"
    }
   },
   "outputs": [],
   "source": [
    "print(\"Lagos\".isalpha())  # True\n",
    "print(\"Lagos123\".isalpha())  # False"
   ]
  },
  {
   "cell_type": "markdown",
   "id": "1be2b07b",
   "metadata": {},
   "source": [
    "**isdigit()**\n",
    "-  Checks if the string contains only digits."
   ]
  },
  {
   "cell_type": "code",
   "execution_count": null,
   "id": "f633581f",
   "metadata": {
    "vscode": {
     "languageId": "plaintext"
    }
   },
   "outputs": [],
   "source": [
    "print(\"12345\".isdigit())  # True\n",
    "print(\"123a\".isdigit())   # False"
   ]
  },
  {
   "cell_type": "markdown",
   "id": "4e451f8f",
   "metadata": {},
   "source": [
    "**isalnum()**\n",
    "- Checks if the string contains only letters and digits."
   ]
  },
  {
   "cell_type": "code",
   "execution_count": null,
   "id": "65a313ef",
   "metadata": {
    "vscode": {
     "languageId": "plaintext"
    }
   },
   "outputs": [],
   "source": [
    "print(\"Python3\".isalnum())  # True\n",
    "print(\"Python 3\".isalnum()) # False"
   ]
  },
  {
   "cell_type": "markdown",
   "id": "4e1f4ee4",
   "metadata": {},
   "source": [
    "**Task1: Reverse a String**\n"
   ]
  }
 ],
 "metadata": {
  "language_info": {
   "name": "python"
  }
 },
 "nbformat": 4,
 "nbformat_minor": 5
}
