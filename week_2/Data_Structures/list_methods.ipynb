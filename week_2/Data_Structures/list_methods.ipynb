{
 "cells": [
  {
   "cell_type": "markdown",
   "id": "71fd3b0a",
   "metadata": {},
   "source": [
    "###**List Methods**"
   ]
  },
  {
   "cell_type": "markdown",
   "id": "d890e120",
   "metadata": {},
   "source": [
    "Python provides many built-in methods for working with lists.\n",
    "Here is each method, what it does, and an example."
   ]
  },
  {
   "cell_type": "markdown",
   "id": "5fb6d576",
   "metadata": {},
   "source": [
    "**1. dot append() method**\n",
    "- Adds an element to the end of the list."
   ]
  },
  {
   "cell_type": "code",
   "execution_count": null,
   "id": "da159d67",
   "metadata": {
    "vscode": {
     "languageId": "plaintext"
    }
   },
   "outputs": [],
   "source": [
    "fruits = [\"apple\", \"banana\"]\n",
    "fruits.append(\"cherry\")\n",
    "print(fruits)  \n",
    "# Output: ['apple', 'banana', 'cherry']\n"
   ]
  },
  {
   "cell_type": "markdown",
   "id": "13ac783a",
   "metadata": {},
   "source": [
    "**2.  dot insert() method**\n",
    "- Inserts an element at a specific position."
   ]
  },
  {
   "cell_type": "code",
   "execution_count": null,
   "id": "3bfe710b",
   "metadata": {
    "vscode": {
     "languageId": "plaintext"
    }
   },
   "outputs": [],
   "source": [
    "fruits = [\"apple\", \"banana\"]\n",
    "fruits.insert(1, \"orange\")\n",
    "print(fruits)  \n",
    "# Output: ['apple', 'orange', 'banana']"
   ]
  },
  {
   "cell_type": "markdown",
   "id": "593189fa",
   "metadata": {},
   "source": [
    "**3.  dot extend() method**\n",
    "- Adds elements from another list (or iterable) to the end."
   ]
  },
  {
   "cell_type": "code",
   "execution_count": null,
   "id": "6cb913f2",
   "metadata": {
    "vscode": {
     "languageId": "plaintext"
    }
   },
   "outputs": [],
   "source": [
    "fruits = [\"apple\", \"banana\"]\n",
    "tropical = [\"mango\", \"pineapple\"]\n",
    "fruits.extend(tropical)\n",
    "print(fruits)  \n",
    "# Output: ['apple', 'banana', 'mango', 'pineapple']"
   ]
  },
  {
   "cell_type": "markdown",
   "id": "f44e50c9",
   "metadata": {},
   "source": [
    "\n",
    "**4. dot remove() method**\n",
    "- Removes the first occurrence of a specified value."
   ]
  },
  {
   "cell_type": "code",
   "execution_count": null,
   "id": "cef9b33f",
   "metadata": {
    "vscode": {
     "languageId": "plaintext"
    }
   },
   "outputs": [],
   "source": [
    "fruits = [\"apple\", \"banana\", \"cherry\", \"banana\"]\n",
    "fruits.remove(\"banana\")\n",
    "print(fruits)  \n",
    "# Output: ['apple', 'cherry', 'banana']"
   ]
  },
  {
   "cell_type": "markdown",
   "id": "0cc04986",
   "metadata": {},
   "source": [
    "**5. dot pop() method**\n",
    "- Removes and returns the element at a given index (default: last)."
   ]
  },
  {
   "cell_type": "code",
   "execution_count": null,
   "id": "072cbe41",
   "metadata": {
    "vscode": {
     "languageId": "plaintext"
    }
   },
   "outputs": [],
   "source": [
    "fruits = [\"apple\", \"banana\", \"cherry\"]\n",
    "last_fruit = fruits.pop()\n",
    "print(last_fruit)  \n",
    "# Output: cherry\n",
    "print(fruits)  \n",
    "# Output: ['apple', 'banana']\n"
   ]
  },
  {
   "cell_type": "markdown",
   "id": "65a82bac",
   "metadata": {},
   "source": [
    "**6. dot clear() method**\n",
    "- Removes all elements from the list."
   ]
  },
  {
   "cell_type": "code",
   "execution_count": null,
   "id": "9cb21e7f",
   "metadata": {
    "vscode": {
     "languageId": "plaintext"
    }
   },
   "outputs": [],
   "source": [
    "fruits = [\"apple\", \"banana\", \"cherry\"]\n",
    "fruits.clear()\n",
    "print(fruits)  \n",
    "# Output: []"
   ]
  },
  {
   "cell_type": "markdown",
   "id": "81c54b81",
   "metadata": {},
   "source": [
    "**7. dot index() method\n",
    "- Returns the index of the first occurrence of a value."
   ]
  },
  {
   "cell_type": "code",
   "execution_count": null,
   "id": "55bda4a3",
   "metadata": {
    "vscode": {
     "languageId": "plaintext"
    }
   },
   "outputs": [],
   "source": [
    "fruits = [\"apple\", \"banana\", \"cherry\"]\n",
    "position = fruits.index(\"banana\")\n",
    "print(position)  \n",
    "# Output: 1"
   ]
  },
  {
   "cell_type": "markdown",
   "id": "de55445b",
   "metadata": {},
   "source": [
    "**8. dot count() method**\n",
    "- Counts how many times a value appears."
   ]
  },
  {
   "cell_type": "code",
   "execution_count": null,
   "id": "8f913ab9",
   "metadata": {
    "vscode": {
     "languageId": "plaintext"
    }
   },
   "outputs": [],
   "source": [
    "fruits = [\"apple\", \"banana\", \"cherry\", \"banana\"]\n",
    "print(fruits.count(\"banana\"))  \n",
    "# Output: 2\n"
   ]
  },
  {
   "cell_type": "markdown",
   "id": "8d93ba05",
   "metadata": {},
   "source": [
    "**9.  dot sort() method**\n",
    "- Sorts the list in ascending order (default)."
   ]
  },
  {
   "cell_type": "code",
   "execution_count": null,
   "id": "efc2ede5",
   "metadata": {
    "vscode": {
     "languageId": "plaintext"
    }
   },
   "outputs": [],
   "source": [
    "numbers = [3, 1, 4, 2]\n",
    "numbers.sort()\n",
    "print(numbers)  \n",
    "# Output: [1, 2, 3, 4]"
   ]
  },
  {
   "cell_type": "markdown",
   "id": "07c5f410",
   "metadata": {},
   "source": [
    "**descending order**"
   ]
  },
  {
   "cell_type": "code",
   "execution_count": null,
   "id": "ad3ea8d5",
   "metadata": {
    "vscode": {
     "languageId": "plaintext"
    }
   },
   "outputs": [],
   "source": [
    "numbers.sort(reverse=True)\n",
    "print(numbers)  \n",
    "# Output: [4, 3, 2, 1]"
   ]
  },
  {
   "cell_type": "markdown",
   "id": "574dec5a",
   "metadata": {},
   "source": [
    "**10. dot reverse() method**\n",
    "- Reverses the order of the list."
   ]
  },
  {
   "cell_type": "code",
   "execution_count": null,
   "id": "fce2ecdd",
   "metadata": {
    "vscode": {
     "languageId": "plaintext"
    }
   },
   "outputs": [],
   "source": [
    "fruits = [\"apple\", \"banana\", \"cherry\"]\n",
    "fruits.reverse()\n",
    "print(fruits)  \n",
    "# Output: ['cherry', 'banana', 'apple']\n"
   ]
  },
  {
   "cell_type": "markdown",
   "id": "5d5d128d",
   "metadata": {},
   "source": [
    "11. copy()\n",
    "- Returns a shallow copy of the list(This should be familiar already)"
   ]
  },
  {
   "cell_type": "code",
   "execution_count": null,
   "id": "5f31953c",
   "metadata": {
    "vscode": {
     "languageId": "plaintext"
    }
   },
   "outputs": [],
   "source": [
    "fruits = [\"apple\", \"banana\", \"cherry\"]\n",
    "new_list = fruits.copy()\n",
    "print(new_list)  \n",
    "# Output: ['apple', 'banana', 'cherry']"
   ]
  },
  {
   "cell_type": "code",
   "execution_count": null,
   "id": "fda4229e",
   "metadata": {
    "vscode": {
     "languageId": "plaintext"
    }
   },
   "outputs": [],
   "source": []
  }
 ],
 "metadata": {
  "language_info": {
   "name": "python"
  }
 },
 "nbformat": 4,
 "nbformat_minor": 5
}
