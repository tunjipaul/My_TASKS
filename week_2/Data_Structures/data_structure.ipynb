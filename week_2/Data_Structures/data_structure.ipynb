{
 "cells": [
  {
   "cell_type": "markdown",
   "id": "8675323f",
   "metadata": {},
   "source": []
  },
  {
   "cell_type": "markdown",
   "id": "9bdaa716",
   "metadata": {},
   "source": []
  },
  {
   "cell_type": "markdown",
   "id": "daaafc34",
   "metadata": {},
   "source": []
  },
  {
   "cell_type": "markdown",
   "id": "7a9d2c02",
   "metadata": {},
   "source": []
  },
  {
   "cell_type": "markdown",
   "id": "68605047",
   "metadata": {},
   "source": []
  },
  {
   "cell_type": "markdown",
   "id": "81d13b2b",
   "metadata": {},
   "source": []
  },
  {
   "cell_type": "markdown",
   "id": "85db374a",
   "metadata": {},
   "source": []
  },
  {
   "cell_type": "markdown",
   "id": "c57f5523",
   "metadata": {},
   "source": [
    "**Python data structure**"
   ]
  },
  {
   "cell_type": "markdown",
   "id": "e9bb78a5",
   "metadata": {},
   "source": [
    "1. String — immutable sequence of characters (often treated like a sequence)\n",
    "\n",
    "2. Tuple — ordered, immutable sequence\n",
    "\n",
    "3. Set — unordered collection of unique items\n",
    "\n",
    "4. Dict (dictionary / map) — key → value mapping\n",
    "\n",
    "5.  List— ordered, mutable sequence\n",
    "\n",
    "6. Also: range, bytes/bytearray, and useful types from collections (namedtuple, defaultdict, Counter, deque)"
   ]
  },
  {
   "cell_type": "markdown",
   "id": "5735ec29",
   "metadata": {},
   "source": [
    "**1. Strings in Python**\n",
    " - A string in Python is a sequence of characters enclosed in either single quotes `('...')`, double quotes `(\"...\")`, or triple quotes `('''...''' or \"\"\"...\"\"\")`.\n",
    "- Strings are used to store text data like names, sentences, or any combination of letters, numbers, and symbols."
   ]
  },
  {
   "cell_type": "code",
   "execution_count": null,
   "id": "66ee2335",
   "metadata": {},
   "outputs": [],
   "source": [
    "# Single quotes\n",
    "name = 'Ada'"
   ]
  },
  {
   "cell_type": "code",
   "execution_count": null,
   "id": "e041ebec",
   "metadata": {},
   "outputs": [],
   "source": [
    "# Double quotes\n",
    "greeting = \"Hello\""
   ]
  },
  {
   "cell_type": "code",
   "execution_count": null,
   "id": "fe0f2d1a",
   "metadata": {},
   "outputs": [],
   "source": [
    "# Triple quotes (for multi-line strings)\n",
    "story = '''Once upon a time,\n",
    "there was a coder named Ada.'''"
   ]
  },
  {
   "cell_type": "code",
   "execution_count": null,
   "id": "a0867f6f",
   "metadata": {},
   "outputs": [],
   "source": [
    "# String with numbers and symbols\n",
    "password = \"p@ssw0rd123\""
   ]
  },
  {
   "cell_type": "markdown",
   "id": "647780bc",
   "metadata": {},
   "source": [
    "**Explanation**\n",
    "- Single quotes `'` and double quotes `\"` work the same way.\n",
    "\n",
    "- Triple quotes allow your string to span across multiple lines without using `\\n`.\n",
    "\n",
    "- Strings can contain letters, numbers, spaces, and special characters.\n",
    "\n",
    "   - Tip: In Python, there’s no “character” type— even a single letter is considered a string."
   ]
  },
  {
   "cell_type": "markdown",
   "id": "9c5f9a82",
   "metadata": {},
   "source": [
    "**string operations**"
   ]
  },
  {
   "cell_type": "markdown",
   "id": "e2c5685a",
   "metadata": {},
   "source": [
    "**Indexing**"
   ]
  },
  {
   "cell_type": "code",
   "execution_count": null,
   "id": "92b664e1",
   "metadata": {},
   "outputs": [],
   "source": [
    "word = \"Python\"\n",
    "print(word[0])  # P\n",
    "print(word[-1]) # n\n"
   ]
  },
  {
   "cell_type": "markdown",
   "id": "34ae98b2",
   "metadata": {},
   "source": [
    "**Slicing**\n"
   ]
  },
  {
   "cell_type": "code",
   "execution_count": null,
   "id": "96dcf1f7",
   "metadata": {},
   "outputs": [],
   "source": [
    "word = \"Python\"\n",
    "print(word[0:4])   # Pyth\n",
    "print(word[2:])    # thon\n",
    "print(word[:3])    # Pyt\n",
    "print(word[::2])   # Pto\n",
    "print(word[::-1])"
   ]
  },
  {
   "cell_type": "markdown",
   "id": "cbbc962c",
   "metadata": {},
   "source": [
    "**String Concatenation & Repetition**"
   ]
  },
  {
   "cell_type": "markdown",
   "id": "cff47c19",
   "metadata": {},
   "source": [
    "**Concatenation**"
   ]
  },
  {
   "cell_type": "code",
   "execution_count": null,
   "id": "482ff002",
   "metadata": {},
   "outputs": [],
   "source": [
    "a = \"Hello\"\n",
    "b = \"World\"\n",
    "print(a + \" \" + b)  # Hello World\n"
   ]
  },
  {
   "cell_type": "markdown",
   "id": "81ea3d63",
   "metadata": {},
   "source": [
    "**Repetition**"
   ]
  },
  {
   "cell_type": "code",
   "execution_count": null,
   "id": "a86dbc65",
   "metadata": {},
   "outputs": [],
   "source": [
    "word = \"Hi! \"\n",
    "print(word * 3)  # Hi! Hi! Hi!\n"
   ]
  },
  {
   "cell_type": "markdown",
   "id": "376be887",
   "metadata": {},
   "source": [
    "**String Searching & Checking**"
   ]
  },
  {
   "cell_type": "markdown",
   "id": "50c6f7c0",
   "metadata": {},
   "source": [
    "**Membership**"
   ]
  },
  {
   "cell_type": "code",
   "execution_count": null,
   "id": "6c6a810b",
   "metadata": {},
   "outputs": [],
   "source": [
    "text = \"Python programming\"\n",
    "print(\"Python\" in text)   # True\n",
    "print(\"Java\" not in text) # True\n"
   ]
  },
  {
   "cell_type": "markdown",
   "id": "9a5ab6ea",
   "metadata": {},
   "source": [
    "**`find() / rfind()`**"
   ]
  },
  {
   "cell_type": "code",
   "execution_count": null,
   "id": "44a77e26",
   "metadata": {},
   "outputs": [],
   "source": [
    "text = \"Hello World\"\n",
    "print(text.find(\"o\"))   # 4\n",
    "print(text.rfind(\"o\"))  # 7\n"
   ]
  },
  {
   "cell_type": "markdown",
   "id": "516d2b43",
   "metadata": {},
   "source": [
    "**`index() / rindex()`**\n",
    "\n",
    "- (Like find() but raises an error if not found)"
   ]
  },
  {
   "cell_type": "code",
   "execution_count": null,
   "id": "b262f95c",
   "metadata": {},
   "outputs": [],
   "source": [
    "text = \"Hello World\"\n",
    "print(text.index(\"World\"))   # 6"
   ]
  },
  {
   "cell_type": "markdown",
   "id": "044ef88c",
   "metadata": {},
   "source": [
    "**`startswith() / endswith()`**"
   ]
  },
  {
   "cell_type": "code",
   "execution_count": null,
   "id": "b3899ba0",
   "metadata": {},
   "outputs": [],
   "source": [
    "filename = \"data.csv\"\n",
    "print(filename.startswith(\"data\"))  # True\n",
    "print(filename.endswith(\".csv\"))    # True"
   ]
  },
  {
   "cell_type": "markdown",
   "id": "76a10930",
   "metadata": {},
   "source": [
    "**String Methods**"
   ]
  },
  {
   "cell_type": "markdown",
   "id": "719c565f",
   "metadata": {},
   "source": [
    "\n",
    "- Creating and manipulating strings.\n",
    "\n",
    "  - upper()\n",
    "  - lower()\n",
    "  - title()\n",
    "  - strip()\n",
    "  - replace()"
   ]
  },
  {
   "cell_type": "markdown",
   "id": "7e390b89",
   "metadata": {},
   "source": []
  },
  {
   "cell_type": "markdown",
   "id": "90a27ff6",
   "metadata": {},
   "source": []
  },
  {
   "cell_type": "markdown",
   "id": "b7c3c1d4",
   "metadata": {},
   "source": []
  },
  {
   "cell_type": "markdown",
   "id": "3afa51c6",
   "metadata": {},
   "source": []
  }
 ],
 "metadata": {
  "kernelspec": {
   "display_name": "test_env",
   "language": "python",
   "name": "python3"
  },
  "language_info": {
   "name": "python",
   "version": "3.13.6"
  }
 },
 "nbformat": 4,
 "nbformat_minor": 5
}
