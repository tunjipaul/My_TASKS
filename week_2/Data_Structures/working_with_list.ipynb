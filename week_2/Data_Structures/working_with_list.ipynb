{
 "cells": [
  {
   "cell_type": "markdown",
   "id": "e5befb6b",
   "metadata": {},
   "source": [
    "**Data Structures Continued...**\n",
    "**2. List**"
   ]
  },
  {
   "cell_type": "markdown",
   "id": "70571b1e",
   "metadata": {},
   "source": [
    "A list in Python is an ordered, mutable (changeable) collection that can store different types of data that is, numbers, strings, booleans, even other lists."
   ]
  },
  {
   "cell_type": "markdown",
   "id": "70cd6fd1",
   "metadata": {},
   "source": [
    "**How to Create a list**"
   ]
  },
  {
   "cell_type": "markdown",
   "id": "66a77163",
   "metadata": {},
   "source": [
    "- You can create an empty list when you don't have elements yet but plan to add later."
   ]
  },
  {
   "cell_type": "code",
   "execution_count": null,
   "id": "688609a0",
   "metadata": {},
   "outputs": [],
   "source": [
    "# Method 1: Using square brackets\n",
    "empty_list = []\n",
    "print(empty_list)  # Output: []\n",
    "\n",
    "# Method 2: Using the list() constructor\n",
    "empty_list2 = list()\n",
    "print(empty_list2)  # Output: []"
   ]
  },
  {
   "cell_type": "markdown",
   "id": "ad384405",
   "metadata": {},
   "source": [
    "- Creating a List with Initial Elements.\n",
    "   - Lists can store multiple items separated by commas inside square brackets.\n"
   ]
  },
  {
   "cell_type": "code",
   "execution_count": null,
   "id": "bec1cdce",
   "metadata": {},
   "outputs": [],
   "source": [
    "# List of integers\n",
    "numbers = [1, 2, 3, 4, 5]\n",
    "print(numbers)  # Output: [1, 2, 3, 4, 5]"
   ]
  },
  {
   "cell_type": "code",
   "execution_count": null,
   "id": "abdc9917",
   "metadata": {},
   "outputs": [],
   "source": [
    "# List of strings\n",
    "fruits = [\"apple\", \"banana\", \"cherry\"]\n",
    "print(fruits)  # Output: ['apple', 'banana', 'cherry']"
   ]
  },
  {
   "cell_type": "code",
   "execution_count": null,
   "id": "eda7de90",
   "metadata": {},
   "outputs": [],
   "source": [
    "# Mixed data types\n",
    "mixed_list = [\"Alice\", 25, 5.8, True]\n",
    "print(mixed_list)  # Output: ['Alice', 25, 5.8, True]"
   ]
  },
  {
   "cell_type": "markdown",
   "id": "66012769",
   "metadata": {},
   "source": [
    "-  Creating a List from Another Sequence. You can convert strings, tuples, or other iterables into a list."
   ]
  },
  {
   "cell_type": "code",
   "execution_count": null,
   "id": "a44f1d16",
   "metadata": {},
   "outputs": [],
   "source": [
    "# From a string (each character becomes an element)\n",
    "chars = list(\"hello\")\n",
    "print(chars)  # Output: ['h', 'e', 'l', 'l', 'o']"
   ]
  },
  {
   "cell_type": "markdown",
   "id": "d77d9d66",
   "metadata": {},
   "source": [
    "# From a tuple\n",
    "my_tuple = (10, 20, 30)\n",
    "list_from_tuple = list(my_tuple)\n",
    "print(list_from_tuple)  # Output: [10, 20, 30]"
   ]
  },
  {
   "cell_type": "markdown",
   "id": "8a6479ec",
   "metadata": {},
   "source": [
    "# From a range\n",
    "numbers_range = list(range(5))\n",
    "print(numbers_range)  # Output: [0, 1, 2, 3, 4]\n"
   ]
  },
  {
   "cell_type": "markdown",
   "id": "a45c2888",
   "metadata": {},
   "source": [
    "- Creating a List Using List Comprehension. \n",
    "List comprehensions are a concise way to create lists using a loop in one line.\n",
    "*We will come back to this later*"
   ]
  },
  {
   "cell_type": "code",
   "execution_count": null,
   "id": "fa462e38",
   "metadata": {},
   "outputs": [],
   "source": [
    "# Squares of numbers 0–4\n",
    "squares = [x**2 for x in range(5)]\n",
    "print(squares)  # Output: [0, 1, 4, 9, 16]"
   ]
  },
  {
   "cell_type": "code",
   "execution_count": null,
   "id": "befbaddf",
   "metadata": {},
   "outputs": [],
   "source": [
    "# Even numbers between 0–10\n",
    "evens = [x for x in range(11) if x % 2 == 0]\n",
    "print(evens)  # Output: [0, 2, 4, 6, 8, 10]\n"
   ]
  },
  {
   "cell_type": "markdown",
   "id": "ed09fc8d",
   "metadata": {},
   "source": [
    "- Creating a Nested List. A list can contain other lists  It is useful for matrices or grouped data."
   ]
  },
  {
   "cell_type": "code",
   "execution_count": null,
   "id": "4bf51e04",
   "metadata": {},
   "outputs": [],
   "source": [
    "# Matrix-like list\n",
    "matrix = [[1, 2], [3, 4], [5, 6]]\n",
    "print(matrix)  # Output: [[1, 2], [3, 4], [5, 6]]"
   ]
  },
  {
   "cell_type": "code",
   "execution_count": null,
   "id": "8347e95a",
   "metadata": {},
   "outputs": [],
   "source": [
    "# Accessing elements in a nested list\n",
    "print(matrix[0])     # Output: [1, 2]\n",
    "print(matrix[0][1])  # Output: 2"
   ]
  },
  {
   "cell_type": "markdown",
   "id": "0899f16c",
   "metadata": {},
   "source": [
    "**Characteristics of a list**"
   ]
  },
  {
   "cell_type": "markdown",
   "id": "394e331d",
   "metadata": {},
   "source": [
    "1. Ordered Collection\n",
    "\n",
    "- The elements in a list maintain the order in which they are inserted.\n",
    "\n",
    "- The first element has index 0, the second has index 1, and so on."
   ]
  },
  {
   "cell_type": "code",
   "execution_count": null,
   "id": "5543ce11",
   "metadata": {},
   "outputs": [],
   "source": [
    "fruits = [\"mango\", \"orange\", \"banana\"]\n",
    "print(fruits)       # ['mango', 'orange', 'banana']\n",
    "print(fruits[0])    # mango (first element)\n",
    "print(fruits[2])    # banana (third element)\n"
   ]
  },
  {
   "cell_type": "markdown",
   "id": "c6d1d7f5",
   "metadata": {},
   "source": [
    "2. Allows Duplicates\n",
    "\n",
    "- Lists can store the same value multiple times."
   ]
  },
  {
   "cell_type": "code",
   "execution_count": null,
   "id": "7a4f7b60",
   "metadata": {},
   "outputs": [],
   "source": [
    "items = [\"rice\", \"beans\", \"yam\", \"rice\"]\n",
    "print(items)  # ['rice', 'beans', 'yam', 'rice']\n"
   ]
  },
  {
   "cell_type": "markdown",
   "id": "a9b54edb",
   "metadata": {},
   "source": [
    "3. Mutable (Can Be Changed)\n",
    "\n",
    "- You can modify a list after it’s created—change elements, add new ones, or remove existing ones.\n"
   ]
  },
  {
   "cell_type": "code",
   "execution_count": null,
   "id": "3f4eb2dd",
   "metadata": {},
   "outputs": [],
   "source": [
    "numbers = [1, 2, 3]\n",
    "numbers[1] = 20  # Changing element at index 1\n",
    "print(numbers)   # [1, 20, 3]"
   ]
  },
  {
   "cell_type": "markdown",
   "id": "447268f8",
   "metadata": {},
   "source": [
    "4. Can Contain Different Data Types\n",
    "\n",
    "- A list can hold integers, strings, floats, booleans, and even other lists."
   ]
  },
  {
   "cell_type": "code",
   "execution_count": null,
   "id": "ea53ac87",
   "metadata": {},
   "outputs": [],
   "source": [
    "mixed = [10, \"Nigeria\", 3.14, True]\n",
    "print(mixed)  # [10, 'Nigeria', 3.14, True]"
   ]
  },
  {
   "cell_type": "markdown",
   "id": "0424862b",
   "metadata": {},
   "source": [
    "5. Can Be Nested\n",
    "\n",
    "- A list can contain other lists (2D or multi-dimensional lists).\n"
   ]
  },
  {
   "cell_type": "code",
   "execution_count": null,
   "id": "4d34af89",
   "metadata": {},
   "outputs": [],
   "source": [
    "nested_list = [[1, 2], [\"a\", \"b\"]]\n",
    "print(nested_list)       # [[1, 2], ['a', 'b']]\n",
    "print(nested_list[0][1]) # 2"
   ]
  },
  {
   "cell_type": "markdown",
   "id": "93739130",
   "metadata": {},
   "source": [
    "6. Dynamic Size\n",
    "- You don’t need to declare the size of a list beforehand; it can grow or shrink as needed."
   ]
  },
  {
   "cell_type": "code",
   "execution_count": null,
   "id": "2a0a29a9",
   "metadata": {},
   "outputs": [],
   "source": [
    "names = [\"Ada\"]\n",
    "names.append(\"Bola\")\n",
    "names.append(\"Chidi\")\n",
    "print(names)  # ['Ada', 'Bola', 'Chidi']\n"
   ]
  },
  {
   "cell_type": "code",
   "execution_count": null,
   "id": "56b3e8e4",
   "metadata": {},
   "outputs": [],
   "source": []
  }
 ],
 "metadata": {
  "language_info": {
   "name": "python"
  }
 },
 "nbformat": 4,
 "nbformat_minor": 5
}
