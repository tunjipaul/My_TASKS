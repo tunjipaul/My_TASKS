{
 "cells": [
  {
   "cell_type": "markdown",
   "id": "30a4cb25",
   "metadata": {},
   "source": [
    "\n",
    "# Using `print()` and `input()` in Python\n",
    "\n",
    "This notebook demonstrates different use cases of the `print()` and `input()` functions in Python.\n",
    "\n",
    "- `print()` is used to display output to the user.\n",
    "- `input()` is used to take input from the user.\n"
   ]
  },
  {
   "cell_type": "code",
   "execution_count": null,
   "id": "de1b7a92",
   "metadata": {},
   "outputs": [],
   "source": [
    "\n",
    "# Basic usage of print()\n",
    "print(\"Hello, world!\")\n",
    "print(\"Welcome to Python programming.\")\n"
   ]
  },
  {
   "cell_type": "code",
   "execution_count": null,
   "id": "7aa08e98",
   "metadata": {},
   "outputs": [],
   "source": [
    "\n",
    "# Using print() with variables\n",
    "name = \"Aisha\"\n",
    "age = 25\n",
    "print(\"Name:\", name)\n",
    "print(\"Age:\", age)"
   ]
  },
  {
   "cell_type": "code",
   "execution_count": null,
   "id": "21aff2c4",
   "metadata": {},
   "outputs": [],
   "source": [
    "\n",
    "# Using f-strings with print()\n",
    "name = \"Bola\"\n",
    "score = 92\n",
    "print(f\"{name} scored {score} in the exam.\")\n"
   ]
  },
  {
   "cell_type": "code",
   "execution_count": null,
   "id": "7f86bbb1",
   "metadata": {},
   "outputs": [],
   "source": [
    "\n",
    "# Using string concatenation\n",
    "first_name = \"Ada\"\n",
    "last_name = \"Lovelace\"\n",
    "print(\"Full name: \" + first_name + \" \" + last_name)"
   ]
  },
  {
   "cell_type": "code",
   "execution_count": null,
   "id": "13a0a036",
   "metadata": {},
   "outputs": [],
   "source": [
    "\n",
    "# Comma vs concatenation\n",
    "print(\"Hello\", \"world!\")       # With comma\n",
    "print(\"Hello\" + \" \" + \"world!\")  # With concatenation"
   ]
  },
  {
   "cell_type": "code",
   "execution_count": null,
   "id": "ce21fb56",
   "metadata": {},
   "outputs": [],
   "source": []
  },
  {
   "cell_type": "code",
   "execution_count": null,
   "id": "5fcb449a",
   "metadata": {},
   "outputs": [],
   "source": [
    "\n",
    "# Escape sequences in print - \"\\n\", \"\\t\"\n",
    "print(\"Line1\\nLine2\")              # New line\n",
    "print(\"Item1\\tItem2\")              # Tab space\n",
    "print(\"He said, \\\"Hello\\\"\")        # Quoted string\n",
    "print('It\\'s Python!')             # Apostrophe in single quote"
   ]
  },
  {
   "cell_type": "code",
   "execution_count": null,
   "id": "c4d84681",
   "metadata": {},
   "outputs": [],
   "source": [
    "# Newline (\\n)\n",
    "print(\"Welcome to Python\\nLet's learn together!\")"
   ]
  },
  {
   "cell_type": "code",
   "execution_count": null,
   "id": "43351a3a",
   "metadata": {},
   "outputs": [],
   "source": [
    "\n",
    "# Tab (\\t)\n",
    "print(\"Name\\tAge\\tLocation\")\n",
    "print(\"Aisha\\t25\\tLagos\")"
   ]
  },
  {
   "cell_type": "code",
   "execution_count": null,
   "id": "0c1e9fa5",
   "metadata": {},
   "outputs": [],
   "source": [
    "# Quotes inside string\n",
    "print(\"She said, \\\"Hello there!\\\"\")\n",
    "print('It\\'s a sunny day.')\n"
   ]
  },
  {
   "cell_type": "code",
   "execution_count": null,
   "id": "da0edb1a",
   "metadata": {},
   "outputs": [],
   "source": [
    "# Backslash\n",
    "print(\"File path: C:\\\\Users\\\\Aisha\\\\Documents\")"
   ]
  },
  {
   "cell_type": "code",
   "execution_count": null,
   "id": "430ed7ce",
   "metadata": {},
   "outputs": [],
   "source": [
    "# Carriage return (\\r)\n",
    "print(\"123456\\rABC\")  # Output: ABC456 (replaces 123)"
   ]
  },
  {
   "cell_type": "code",
   "execution_count": null,
   "id": "8ff7649e",
   "metadata": {},
   "outputs": [],
   "source": [
    "# Backspace (\\b)\n",
    "print(\"Helloo\\b\")  # Output: Hello"
   ]
  },
  {
   "cell_type": "code",
   "execution_count": null,
   "id": "b2f34f44",
   "metadata": {},
   "outputs": [],
   "source": [
    "# Bell/alert (may or may not beep depending on environment)\n",
    "print(\"\\a\")  # Triggers a bell sound (if supported)\n"
   ]
  },
  {
   "cell_type": "markdown",
   "id": "1a85cd38",
   "metadata": {},
   "source": [
    "| Escape Sequence  | Meaning               | Example                           | Output                           |\n",
    "|------------------|----------------------|------------------------------------|----------------------------------|\n",
    "| `\\n`             | New line             | `print(\"Hello\\nWorld\")`            | Hello <br> World                 |\n",
    "| `\\t`             | Horizontal tab       | `print(\"Name\\tAge\")`               | Name  Age                        |\n",
    "| `\\\"`             | Double quote         | `print(\"She said, \\\"Hi!\\\"\")`       | She said, \"Hi!\"                  |\n",
    "| `\\'`             | Single quote         | `print('It\\'s okay')`              | It's okay                        |\n",
    "| `\\\\`             | Backslash            | `print(\"C:\\\\\\\\Users\")`             | C:\\Users                         |\n",
    "| `\\r`             | Carriage return      | `print(\"123\\rABC\")`                | ABC (overwrites 123)             |\n",
    "| `\\b`             | Backspace            | `print(\"Helloo\\b\")`                | Hello                            |\n",
    "| `\\a`             | Bell (alert sound)   | `print(\"\\a\")`                      | (May trigger beep sound)         |\n",
    "| `\\f`             | Form feed            | `print(\"Hello\\fWorld\")`            | Hello\fWorld                     |\n",
    "| `\\v`             | Vertical tab         | `print(\"Hello\\vWorld\")`            | Hello\u000bWorld                     |\n"
   ]
  },
  {
   "cell_type": "code",
   "execution_count": null,
   "id": "edb8ba5a",
   "metadata": {},
   "outputs": [],
   "source": [
    "# Using sep and end in print\n",
    "print(\"Python\", \"is\", \"fun\", sep=\" - \")\n",
    "print(\"This is the first line.\", end=\" \")\n",
    "print(\"This is the second line.\")\n"
   ]
  },
  {
   "cell_type": "markdown",
   "id": "5ff9def3",
   "metadata": {},
   "source": [
    "**Class Task** "
   ]
  },
  {
   "cell_type": "markdown",
   "id": "00749bd0",
   "metadata": {},
   "source": [
    "***Task1**\n",
    "-  Write a Python program that prints the following information on separate lines:\n",
    "\n",
    " - Your full name\n",
    "\n",
    "  - Your uni\n",
    "\n",
    " - Your local government area\n",
    "\n",
    " - Your favorite Nigerian food"
   ]
  },
  {
   "cell_type": "markdown",
   "id": "e50d6e73",
   "metadata": {},
   "source": [
    "***Task2**\n",
    "- Write a Python program that stores your name and state of origin in variables, and prints a message like"
   ]
  },
  {
   "cell_type": "markdown",
   "id": "a00fa8c9",
   "metadata": {},
   "source": [
    "**Task3**\n",
    "- Print a simple timetable for a day in a Nigerian secondary school using tab spacing and newlines."
   ]
  },
  {
   "cell_type": "markdown",
   "id": "25e908bb",
   "metadata": {},
   "source": [
    "**Task4**\n",
    "- Write a Python program that uses variables to store:\n",
    "\n",
    "    - Your name\n",
    "\n",
    "   - Your class\n",
    "\n",
    "   - Your best subject\n",
    "\n",
    "- Then use an f-string to format and print them in a sentence."
   ]
  },
  {
   "cell_type": "markdown",
   "id": "ee4dbd69",
   "metadata": {},
   "source": [
    "**Task5**\n",
    "Write a short 3-line poem about Nigeria and print it using triple quotes (\"\"\" \"\"\")."
   ]
  },
  {
   "cell_type": "markdown",
   "id": "22245ca6",
   "metadata": {},
   "source": [
    "#### Getting Started With input() Statement"
   ]
  },
  {
   "cell_type": "code",
   "execution_count": null,
   "id": "54ee6347",
   "metadata": {},
   "outputs": [],
   "source": [
    "\n",
    "# Basic usage of input()\n",
    "name = input(\"Enter your name: \")\n",
    "print(\"Hello,\", name)\n"
   ]
  },
  {
   "cell_type": "code",
   "execution_count": null,
   "id": "f7db3a93",
   "metadata": {},
   "outputs": [],
   "source": [
    "\n",
    "# Convert input to integer\n",
    "age = int(input(\"Enter your age: \"))\n",
    "print(f\"You will be {age + 1} years old next year.\")\n"
   ]
  },
  {
   "cell_type": "code",
   "execution_count": null,
   "id": "1a2dc513",
   "metadata": {},
   "outputs": [],
   "source": [
    "\n",
    "# Calculator using input\n",
    "num1 = float(input(\"Enter first number: \"))\n",
    "num2 = float(input(\"Enter second number: \"))\n",
    "sum_result = num1 + num2\n",
    "print(f\"The sum of {num1} and {num2} is {sum_result}.\")\n"
   ]
  }
 ],
 "metadata": {
  "language_info": {
   "name": "python"
  }
 },
 "nbformat": 4,
 "nbformat_minor": 5
}
